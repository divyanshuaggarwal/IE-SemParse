{
 "cells": [
  {
   "cell_type": "code",
   "execution_count": 3,
   "id": "df88a111-08c2-4e67-9586-a5665562de23",
   "metadata": {},
   "outputs": [],
   "source": [
    "import json\n",
    "import pandas as pd\n",
    "import numpy as np"
   ]
  },
  {
   "cell_type": "code",
   "execution_count": 6,
   "id": "838be545-87d0-46ba-af76-f47472dd6111",
   "metadata": {},
   "outputs": [],
   "source": [
    "with open('/workspace/Indic-SemParse/Indic-SemParse/filtered_data/itop/hi.json', 'r') as f:\n",
    "    data = json.load(f)\n",
    "\n",
    "    \n",
    "train = data['train']"
   ]
  },
  {
   "cell_type": "code",
   "execution_count": 16,
   "id": "9b328279-9709-4e73-aa4e-92f9291e8560",
   "metadata": {},
   "outputs": [],
   "source": [
    "train_df = pd.DataFrame(train)"
   ]
  },
  {
   "cell_type": "code",
   "execution_count": 31,
   "id": "7c48628e-724e-4ee2-abc9-82a2aa67c3a8",
   "metadata": {},
   "outputs": [],
   "source": [
    "spans = train_df['spans'].to_list()"
   ]
  },
  {
   "cell_type": "code",
   "execution_count": 32,
   "id": "7e4a3bb6-0850-4f43-a9bd-8f35ed7d4ac4",
   "metadata": {},
   "outputs": [
    {
     "data": {
      "text/plain": [
       "'4:20:SL:CONTACT,21:26:SL:TYPE_CONTENT,36:38:SL:RECIPIENT'"
      ]
     },
     "execution_count": 32,
     "metadata": {},
     "output_type": "execute_result"
    }
   ],
   "source": [
    "spans[0]"
   ]
  },
  {
   "cell_type": "code",
   "execution_count": 33,
   "id": "e3d2486e-9043-4dfb-b47b-8e6836c61289",
   "metadata": {},
   "outputs": [],
   "source": [
    "slots = []\n",
    "for span in spans:\n",
    "    spn = span.split(',')\n",
    "    slots += ['SL:' + sp.split(':')[-1] for sp in spn]"
   ]
  },
  {
   "cell_type": "code",
   "execution_count": 35,
   "id": "419b1c84-f079-4e50-84c9-09128a71e251",
   "metadata": {},
   "outputs": [],
   "source": [
    "slots = np.unique(slots)"
   ]
  },
  {
   "cell_type": "code",
   "execution_count": 38,
   "id": "7fe84f70-c9bd-43b3-84ea-eb937da0d1c4",
   "metadata": {},
   "outputs": [
    {
     "data": {
      "text/plain": [
       "['SL:',\n",
       " 'SL:AGE',\n",
       " 'SL:ALARM_NAME',\n",
       " 'SL:AMOUNT',\n",
       " 'SL:ATTENDEE',\n",
       " 'SL:ATTENDEE_EVENT',\n",
       " 'SL:ATTRIBUTE_EVENT',\n",
       " 'SL:CATEGORY_EVENT',\n",
       " 'SL:CONTACT',\n",
       " 'SL:CONTACT_ADDED',\n",
       " 'SL:CONTACT_METHOD',\n",
       " 'SL:CONTACT_RELATED',\n",
       " 'SL:CONTACT_REMOVED',\n",
       " 'SL:CONTENT_EXACT',\n",
       " 'SL:DATE_TIME',\n",
       " 'SL:EDUCATION_DEGREE',\n",
       " 'SL:EMPLOYER',\n",
       " 'SL:GENDER',\n",
       " 'SL:GROUP',\n",
       " 'SL:JOB',\n",
       " 'SL:LIFE_EVENT',\n",
       " 'SL:LOCATION',\n",
       " 'SL:MAJOR',\n",
       " 'SL:METHOD_RECIPES',\n",
       " 'SL:METHOD_RETRIEVAL_REMINDER',\n",
       " 'SL:METHOD_TIMER',\n",
       " 'SL:MUSIC_ALBUM_MODIFIER',\n",
       " 'SL:MUSIC_ALBUM_TITLE',\n",
       " 'SL:MUSIC_ARTIST_NAME',\n",
       " 'SL:MUSIC_GENRE',\n",
       " 'SL:MUSIC_PLAYLIST_MODIFIER',\n",
       " 'SL:MUSIC_PLAYLIST_TITLE',\n",
       " 'SL:MUSIC_PROVIDER_NAME',\n",
       " 'SL:MUSIC_RADIO_ID',\n",
       " 'SL:MUSIC_REWIND_TIME',\n",
       " 'SL:MUSIC_TRACK_TITLE',\n",
       " 'SL:MUSIC_TYPE',\n",
       " 'SL:NAME_APP',\n",
       " 'SL:NEWS_CATEGORY',\n",
       " 'SL:NEWS_REFERENCE',\n",
       " 'SL:NEWS_SOURCE',\n",
       " 'SL:NEWS_TOPIC',\n",
       " 'SL:NEWS_TYPE',\n",
       " 'SL:ORDINAL',\n",
       " 'SL:PERIOD',\n",
       " 'SL:PERSON_REMINDED',\n",
       " 'SL:PHONE_NUMBER',\n",
       " 'SL:RECIPES_ATTRIBUTE',\n",
       " 'SL:RECIPES_COOKING_METHOD',\n",
       " 'SL:RECIPES_CUISINE',\n",
       " 'SL:RECIPES_DIET',\n",
       " 'SL:RECIPES_DISH',\n",
       " 'SL:RECIPES_EXCLUDED_INGREDIENT',\n",
       " 'SL:RECIPES_INCLUDED_INGREDIENT',\n",
       " 'SL:RECIPES_MEAL',\n",
       " 'SL:RECIPES_QUALIFIER_NUTRITION',\n",
       " 'SL:RECIPES_RATING',\n",
       " 'SL:RECIPES_SOURCE',\n",
       " 'SL:RECIPES_TYPE',\n",
       " 'SL:RECIPES_TYPE_NUTRITION',\n",
       " 'SL:RECIPES_UNIT_MEASUREMENT',\n",
       " 'SL:RECIPES_UNIT_NUTRITION',\n",
       " 'SL:RECIPIENT',\n",
       " 'SL:SCHOOL',\n",
       " 'SL:SENDER',\n",
       " 'SL:SIMILARITY',\n",
       " 'SL:TIMER_NAME',\n",
       " 'SL:TITLE_EVENT',\n",
       " 'SL:TODO',\n",
       " 'SL:TYPE_CONTACT',\n",
       " 'SL:TYPE_CONTENT',\n",
       " 'SL:TYPE_RELATION',\n",
       " 'SL:USER_ATTENDEE_EVENT',\n",
       " 'SL:WEATHER_ATTRIBUTE',\n",
       " 'SL:WEATHER_TEMPERATURE_UNIT']"
      ]
     },
     "execution_count": 38,
     "metadata": {},
     "output_type": "execute_result"
    }
   ],
   "source": [
    "slots.tolist()"
   ]
  },
  {
   "cell_type": "code",
   "execution_count": 102,
   "id": "64f6a4d5-8be3-4010-b9d5-19fcf881d719",
   "metadata": {},
   "outputs": [],
   "source": [
    "with open('/workspace/Indic-SemParse/Indic-SemParse/filtered_data/indic-atis/hi.json', 'r') as f:\n",
    "    data = json.load(f)\n",
    "\n",
    "    \n",
    "train = data['train']"
   ]
  },
  {
   "cell_type": "code",
   "execution_count": 103,
   "id": "dfc0a623-2510-466d-9e15-be4b12dee13e",
   "metadata": {},
   "outputs": [
    {
     "data": {
      "text/plain": [
       "{'text': 'i want to fly from boston at 838 am and arrive in denver at 1110 in the morning',\n",
       " 'intent': 'flight',\n",
       " 'entities': '[{\"end\": 25, \"entity\": \"fromloc.city_name\", \"start\": 19, \"value\": \"boston\"}, {\"end\": 35, \"entity\": \"depart_time.time\", \"start\": 29, \"value\": \"838 am\"}, {\"end\": 56, \"entity\": \"toloc.city_name\", \"start\": 50, \"value\": \"denver\"}, {\"end\": 64, \"entity\": \"arrive_time.time\", \"start\": 60, \"value\": \"1110\"}, {\"end\": 79, \"entity\": \"arrive_time.period_of_day\", \"start\": 72, \"value\": \"morning\"}]',\n",
       " 'translated text': 'मैं सुबह आठ अड़तीस बजे बोस्टन से उड़ान भरकर सुबह ग्यारह दस बजे डेनवर पहुंचना चाहता हूं',\n",
       " 'back translated text': 'I would like to depart Boston at 8: 30 am and reach Denver at 11: 10 am',\n",
       " 'logical form': '[ IN:FLIGHT  [ SL:CITY_NAME boston ] [ SL:TIME 838 am ] [ SL:CITY_NAME denver ] [ SL:TIME 1110 ] [ SL:PERIOD_OF_DAY morning ] ]',\n",
       " 'decoupled logical form': '[IN:FLIGHT [SL:CITY_NAME boston ] [SL:TIME 838 am ] [SL:CITY_NAME denver ] [SL:TIME 1110 ] [SL:PERIOD_OF_DAY morning ] ]',\n",
       " 'src': 'मैं सुबह आठ अड़तीस बजे बोस्टन से उड़ान भरकर सुबह ग्यारह दस बजे डेनवर पहुंचना चाहता हूं',\n",
       " 'trg': '[ IN:FLIGHT  [ SL:CITY_NAME boston ] [ SL:TIME 838 am ] [ SL:CITY_NAME denver ] [ SL:TIME 1110 ] [ SL:PERIOD_OF_DAY morning ] ]'}"
      ]
     },
     "execution_count": 103,
     "metadata": {},
     "output_type": "execute_result"
    }
   ],
   "source": [
    "train[0]"
   ]
  },
  {
   "cell_type": "code",
   "execution_count": 104,
   "id": "5ebbea0b-ed85-48a6-8334-63f454c825d1",
   "metadata": {},
   "outputs": [],
   "source": [
    "train_df = pd.DataFrame(train)"
   ]
  },
  {
   "cell_type": "code",
   "execution_count": 105,
   "id": "bb2532c3-dea4-4ab7-881d-2395487c9adb",
   "metadata": {},
   "outputs": [
    {
     "data": {
      "text/plain": [
       "['IN:FLIGHT',\n",
       " 'IN:FLIGHT_TIME',\n",
       " 'IN:AIRFARE',\n",
       " 'IN:GROUND_SERVICE',\n",
       " 'IN:AIRPORT',\n",
       " 'IN:AIRCRAFT',\n",
       " 'IN:AIRLINE',\n",
       " 'IN:DISTANCE',\n",
       " 'IN:GROUND_FARE',\n",
       " 'IN:ABBREVIATION',\n",
       " 'IN:QUANTITY',\n",
       " 'IN:CITY',\n",
       " 'IN:FLIGHT_NO',\n",
       " 'IN:CAPACITY',\n",
       " 'IN:FLIGHT+AIRFARE',\n",
       " 'IN:MEAL',\n",
       " 'IN:RESTRICTION',\n",
       " 'IN:AIRLINE+FLIGHT_NO',\n",
       " 'IN:GROUND_SERVICE+GROUND_FARE',\n",
       " 'IN:AIRFARE+FLIGHT_TIME',\n",
       " 'IN:CHEAPEST',\n",
       " 'IN:AIRCRAFT+FLIGHT+FLIGHT_NO']"
      ]
     },
     "execution_count": 105,
     "metadata": {},
     "output_type": "execute_result"
    }
   ],
   "source": [
    "train_df['intent'].apply(lambda x: \"IN:\" + x.upper()).unique().tolist()"
   ]
  },
  {
   "cell_type": "code",
   "execution_count": 77,
   "id": "de42a686-bb95-403e-9c26-4a3c061cad25",
   "metadata": {},
   "outputs": [],
   "source": [
    "entities = train_df['entities'].apply(eval).to_list()"
   ]
  },
  {
   "cell_type": "code",
   "execution_count": 78,
   "id": "a81c4f96-af92-4b0b-8960-12c1a45aa593",
   "metadata": {},
   "outputs": [],
   "source": [
    "entities = [ent for ent in entities if len(ent)]"
   ]
  },
  {
   "cell_type": "code",
   "execution_count": 82,
   "id": "6ab94fdd-c274-4be2-83bf-8e17c70dbc6e",
   "metadata": {},
   "outputs": [],
   "source": [
    "ents = []\n",
    "for entity in entities:\n",
    "    for dic in entity:\n",
    "        ents.append(\"SL:\" + dic['entity'].split('.')[-1].upper())"
   ]
  },
  {
   "cell_type": "code",
   "execution_count": 84,
   "id": "0652d7c0-a8a7-4c33-aa52-3e04b8a1df17",
   "metadata": {},
   "outputs": [],
   "source": [
    "ents = np.unique(ents).tolist()"
   ]
  },
  {
   "cell_type": "code",
   "execution_count": 85,
   "id": "92457dbd-a964-4b72-a9f0-4acb28f8aa52",
   "metadata": {},
   "outputs": [
    {
     "data": {
      "text/plain": [
       "['SL:AIRCRAFT_CODE',\n",
       " 'SL:AIRLINE_CODE',\n",
       " 'SL:AIRLINE_NAME',\n",
       " 'SL:AIRPORT_CODE',\n",
       " 'SL:AIRPORT_NAME',\n",
       " 'SL:CITY_NAME',\n",
       " 'SL:CLASS_TYPE',\n",
       " 'SL:CONNECT',\n",
       " 'SL:COST_RELATIVE',\n",
       " 'SL:COUNTRY_NAME',\n",
       " 'SL:DATE_RELATIVE',\n",
       " 'SL:DAYS_CODE',\n",
       " 'SL:DAY_NAME',\n",
       " 'SL:DAY_NUMBER',\n",
       " 'SL:ECONOMY',\n",
       " 'SL:END_TIME',\n",
       " 'SL:FARE_AMOUNT',\n",
       " 'SL:FARE_BASIS_CODE',\n",
       " 'SL:FLIGHT_DAYS',\n",
       " 'SL:FLIGHT_MOD',\n",
       " 'SL:FLIGHT_NUMBER',\n",
       " 'SL:FLIGHT_STOP',\n",
       " 'SL:FLIGHT_TIME',\n",
       " 'SL:MEAL',\n",
       " 'SL:MEAL_CODE',\n",
       " 'SL:MEAL_DESCRIPTION',\n",
       " 'SL:MOD',\n",
       " 'SL:MONTH_NAME',\n",
       " 'SL:OR',\n",
       " 'SL:PERIOD_MOD',\n",
       " 'SL:PERIOD_OF_DAY',\n",
       " 'SL:RESTRICTION_CODE',\n",
       " 'SL:ROUND_TRIP',\n",
       " 'SL:START_TIME',\n",
       " 'SL:STATE_CODE',\n",
       " 'SL:STATE_NAME',\n",
       " 'SL:TIME',\n",
       " 'SL:TIME_RELATIVE',\n",
       " 'SL:TODAY_RELATIVE',\n",
       " 'SL:TRANSPORT_TYPE',\n",
       " 'SL:YEAR']"
      ]
     },
     "execution_count": 85,
     "metadata": {},
     "output_type": "execute_result"
    }
   ],
   "source": [
    "ents"
   ]
  },
  {
   "cell_type": "code",
   "execution_count": 97,
   "id": "ce840710-9272-41a7-902e-b6f3d4470b34",
   "metadata": {},
   "outputs": [],
   "source": [
    "with open('/workspace/Indic-SemParse/Indic-SemParse/filtered_data/indic-TOP/hi.json', 'r') as f:\n",
    "    data = json.load(f)\n",
    "\n",
    "train = data['train']"
   ]
  },
  {
   "cell_type": "code",
   "execution_count": 98,
   "id": "523fd930-43ac-4f21-9bd0-71a786a3e567",
   "metadata": {},
   "outputs": [],
   "source": [
    "ents = []\n",
    "slots = []\n",
    "for dat in train:\n",
    "    for tok in dat['logical form'].split():\n",
    "        if tok.startswith('[SL:'):\n",
    "            slots.append(tok[1:])\n",
    "        elif tok.startswith('[IN:'):\n",
    "            ents.append(tok[1:])\n"
   ]
  },
  {
   "cell_type": "code",
   "execution_count": 99,
   "id": "f38248fc-b4ca-4e29-b6b2-3c2d2993c8b1",
   "metadata": {},
   "outputs": [],
   "source": [
    "ents = np.unique(ents).tolist()\n",
    "slots = np.unique(slots).tolist()"
   ]
  },
  {
   "cell_type": "code",
   "execution_count": 100,
   "id": "cbac10be-7644-4cc6-b860-3fad40660b8c",
   "metadata": {},
   "outputs": [
    {
     "data": {
      "text/plain": [
       "['IN:COMBINE',\n",
       " 'IN:GET_CONTACT',\n",
       " 'IN:GET_DIRECTIONS',\n",
       " 'IN:GET_DISTANCE',\n",
       " 'IN:GET_ESTIMATED_ARRIVAL',\n",
       " 'IN:GET_ESTIMATED_DEPARTURE',\n",
       " 'IN:GET_ESTIMATED_DURATION',\n",
       " 'IN:GET_EVENT',\n",
       " 'IN:GET_EVENT_ATTENDEE',\n",
       " 'IN:GET_EVENT_ATTENDEE_AMOUNT',\n",
       " 'IN:GET_EVENT_ORGANIZER',\n",
       " 'IN:GET_INFO_ROAD_CONDITION',\n",
       " 'IN:GET_INFO_ROUTE',\n",
       " 'IN:GET_INFO_TRAFFIC',\n",
       " 'IN:GET_LOCATION',\n",
       " 'IN:GET_LOCATION_HOME',\n",
       " 'IN:GET_LOCATION_HOMETOWN',\n",
       " 'IN:GET_LOCATION_SCHOOL',\n",
       " 'IN:GET_LOCATION_WORK',\n",
       " 'IN:NEGATION',\n",
       " 'IN:UNINTELLIGIBLE',\n",
       " 'IN:UNSUPPORTED',\n",
       " 'IN:UNSUPPORTED_EVENT',\n",
       " 'IN:UNSUPPORTED_NAVIGATION',\n",
       " 'IN:UPDATE_DIRECTIONS']"
      ]
     },
     "execution_count": 100,
     "metadata": {},
     "output_type": "execute_result"
    }
   ],
   "source": [
    "ents"
   ]
  },
  {
   "cell_type": "code",
   "execution_count": 101,
   "id": "e5344eed-471f-4e85-a588-200ece66064d",
   "metadata": {},
   "outputs": [
    {
     "data": {
      "text/plain": [
       "['SL:AMOUNT',\n",
       " 'SL:ATTENDEE_EVENT',\n",
       " 'SL:ATTRIBUTE_EVENT',\n",
       " 'SL:CATEGORY_EVENT',\n",
       " 'SL:CATEGORY_LOCATION',\n",
       " 'SL:COMBINE',\n",
       " 'SL:CONTACT',\n",
       " 'SL:CONTACT_RELATED',\n",
       " 'SL:DATE_TIME',\n",
       " 'SL:DATE_TIME_ARRIVAL',\n",
       " 'SL:DATE_TIME_DEPARTURE',\n",
       " 'SL:DESTINATION',\n",
       " 'SL:GROUP',\n",
       " 'SL:LOCATION',\n",
       " 'SL:LOCATION_CURRENT',\n",
       " 'SL:LOCATION_MODIFIER',\n",
       " 'SL:LOCATION_USER',\n",
       " 'SL:LOCATION_WORK',\n",
       " 'SL:METHOD_TRAVEL',\n",
       " 'SL:NAME_EVENT',\n",
       " 'SL:OBSTRUCTION',\n",
       " 'SL:OBSTRUCTION_AVOID',\n",
       " 'SL:ORDINAL',\n",
       " 'SL:ORGANIZER_EVENT',\n",
       " 'SL:PATH',\n",
       " 'SL:PATH_AVOID',\n",
       " 'SL:POINT_ON_MAP',\n",
       " 'SL:ROAD_CONDITION',\n",
       " 'SL:ROAD_CONDITION_AVOID',\n",
       " 'SL:SEARCH_RADIUS',\n",
       " 'SL:SOURCE',\n",
       " 'SL:TYPE_RELATION',\n",
       " 'SL:UNIT_DISTANCE',\n",
       " 'SL:WAYPOINT',\n",
       " 'SL:WAYPOINT_ADDED',\n",
       " 'SL:WAYPOINT_AVOID']"
      ]
     },
     "execution_count": 101,
     "metadata": {},
     "output_type": "execute_result"
    }
   ],
   "source": [
    "slots"
   ]
  },
  {
   "cell_type": "code",
   "execution_count": null,
   "id": "5de2e484-a485-47d1-85d4-86721a757bc9",
   "metadata": {},
   "outputs": [],
   "source": []
  }
 ],
 "metadata": {
  "kernelspec": {
   "display_name": "Python 3 (ipykernel)",
   "language": "python",
   "name": "python3"
  },
  "language_info": {
   "codemirror_mode": {
    "name": "ipython",
    "version": 3
   },
   "file_extension": ".py",
   "mimetype": "text/x-python",
   "name": "python",
   "nbconvert_exporter": "python",
   "pygments_lexer": "ipython3",
   "version": "3.7.13"
  }
 },
 "nbformat": 4,
 "nbformat_minor": 5
}
