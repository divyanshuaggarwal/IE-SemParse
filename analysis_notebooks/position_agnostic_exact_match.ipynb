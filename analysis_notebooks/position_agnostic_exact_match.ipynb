{
  "cells": [
    {
      "cell_type": "code",
      "source": [
        "def convert_to_nested_lst(toks, i, curr_list, last_int=[0]):\n",
        "\n",
        "    if i >= len(toks):\n",
        "        return\n",
        "\n",
        "    last_int[0] = i\n",
        "\n",
        "    if toks[i] == ']':\n",
        "        return\n",
        "\n",
        "\n",
        "    elif toks[i].startswith(\"[SL:\"):\n",
        "        j = i\n",
        "\n",
        "        while j < len(toks) and not toks[j].startswith(\"[IN:\") and toks[j] != ']':\n",
        "            tmp_str = ''\n",
        "\n",
        "            while j < len(toks) and toks[j] != ']':\n",
        "                tmp_str += toks[j] + ' '\n",
        "                j += 1\n",
        "\n",
        "            curr_list.append(tmp_str + ']')\n",
        "\n",
        "        last_int[0] = j\n",
        "\n",
        "\n",
        "    elif toks[i].startswith(\"[IN:\"):\n",
        "\n",
        "        if i == 0:\n",
        "            curr_list.append(toks[i])\n",
        "            convert_to_nested_lst(toks, i+1, curr_list, last_int)\n",
        "\n",
        "        else:\n",
        "            tmp_curr_list = [toks[i]]\n",
        "            convert_to_nested_lst(toks, i+1, tmp_curr_list, last_int)\n",
        "            curr_list.append(tmp_curr_list)\n",
        "\n",
        "    if last_int[0] < len(toks):\n",
        "        convert_to_nested_lst(toks, last_int[0]+1, curr_list, last_int)\n",
        "\n"
      ],
      "metadata": {
        "id": "vMgj7AuiQ2tq"
      },
      "execution_count": null,
      "outputs": []
    },
    {
      "cell_type": "code",
      "source": [
        "from collections import deque\n",
        "\n",
        "def convert_to_dict(curr_list):\n",
        "    q = deque(curr_list)\n",
        "\n",
        "    res = {}\n",
        "\n",
        "    last_key = \"\"\n",
        "\n",
        "    while q:\n",
        "        curr_pop = q.popleft()\n",
        "\n",
        "        if isinstance(curr_pop, list):\n",
        "            q.extend(curr_pop)\n",
        "\n",
        "        elif curr_pop.startswith(\"[IN:\"):\n",
        "\n",
        "            if last_key:\n",
        "                res[last_key].append(curr_pop[1:])\n",
        "\n",
        "            last_key = curr_pop[1:]\n",
        "            res[last_key] = []\n",
        "\n",
        "        else:\n",
        "            res[last_key].append(curr_pop)\n",
        "\n",
        "\n",
        "    res = {k: sorted(v) for k,v in res.items()}\n",
        "\n",
        "    return res\n",
        "\n",
        "\n"
      ],
      "metadata": {
        "id": "AjeQfvB3lnMS"
      },
      "execution_count": null,
      "outputs": []
    },
    {
      "cell_type": "code",
      "source": [
        "tok_list_1 = '[IN:GET_WEATHER [IN:GET_ALARM [SL:TIME anytime ] [SL:WHERE anywhere ] ] [SL:DATE today ] [SL:ATTRIBUTE rainfall ] ]'.split()\n",
        "\n",
        "tok_list_2 = '[IN:GET_WEATHER [SL:ATTRIBUTE rainfall ] [SL:DATE today ] [IN:GET_ALARM [SL:TIME anytime ] [SL:WHERE anywhere ] ] ]'.split()\n",
        "\n",
        "\n",
        "print(tok_list_1)\n",
        "print(tok_list_2)"
      ],
      "metadata": {
        "id": "fo2y7S2QXU7c",
        "outputId": "14ff8238-819a-4719-f12c-2b10074beac6",
        "colab": {
          "base_uri": "https://localhost:8080/"
        }
      },
      "execution_count": null,
      "outputs": [
        {
          "output_type": "stream",
          "name": "stdout",
          "text": [
            "['[IN:GET_WEATHER', '[IN:GET_ALARM', '[SL:TIME', 'anytime', ']', '[SL:WHERE', 'anywhere', ']', ']', '[SL:DATE', 'today', ']', '[SL:ATTRIBUTE', 'rainfall', ']', ']']\n",
            "['[IN:GET_WEATHER', '[SL:ATTRIBUTE', 'rainfall', ']', '[SL:DATE', 'today', ']', '[IN:GET_ALARM', '[SL:TIME', 'anytime', ']', '[SL:WHERE', 'anywhere', ']', ']', ']']\n"
          ]
        }
      ]
    },
    {
      "cell_type": "code",
      "source": [
        "curr_list_1 = []\n",
        "curr_list_2 = []\n",
        "\n",
        "\n",
        "convert_to_nested_lst(tok_list_1, 0, curr_list_1)\n",
        "print(curr_list_1)\n",
        "\n",
        "\n",
        "convert_to_nested_lst(tok_list_2, 0, curr_list_2)\n",
        "\n",
        "print(curr_list_2)"
      ],
      "metadata": {
        "id": "Hu2cUz-cRDma",
        "outputId": "bedda4eb-b25f-411f-d685-99e51c3b25ec",
        "colab": {
          "base_uri": "https://localhost:8080/"
        }
      },
      "execution_count": null,
      "outputs": [
        {
          "output_type": "stream",
          "name": "stdout",
          "text": [
            "['[IN:GET_WEATHER', ['[IN:GET_ALARM', '[SL:TIME anytime ]', '[SL:WHERE anywhere ]'], '[SL:DATE today ]', '[SL:ATTRIBUTE rainfall ]']\n",
            "['[IN:GET_WEATHER', '[SL:ATTRIBUTE rainfall ]', '[SL:DATE today ]', ['[IN:GET_ALARM', '[SL:TIME anytime ]', '[SL:WHERE anywhere ]']]\n"
          ]
        }
      ]
    },
    {
      "cell_type": "code",
      "source": [
        "from pprint import pprint\n",
        "pprint(convert_to_dict(curr_list_1))\n",
        "pprint(convert_to_dict(curr_list_2))"
      ],
      "metadata": {
        "colab": {
          "base_uri": "https://localhost:8080/"
        },
        "id": "-wDTUCxKk2K-",
        "outputId": "2a06a866-a398-4d8c-94cf-1bcc231ed04f"
      },
      "execution_count": null,
      "outputs": [
        {
          "output_type": "stream",
          "name": "stdout",
          "text": [
            "{'IN:GET_ALARM': ['[SL:TIME anytime ]', '[SL:WHERE anywhere ]'],\n",
            " 'IN:GET_WEATHER': ['IN:GET_ALARM',\n",
            "                    '[SL:ATTRIBUTE rainfall ]',\n",
            "                    '[SL:DATE today ]']}\n",
            "{'IN:GET_ALARM': ['[SL:TIME anytime ]', '[SL:WHERE anywhere ]'],\n",
            " 'IN:GET_WEATHER': ['IN:GET_ALARM',\n",
            "                    '[SL:ATTRIBUTE rainfall ]',\n",
            "                    '[SL:DATE today ]']}\n"
          ]
        }
      ]
    },
    {
      "cell_type": "code",
      "source": [
        "convert_to_dict(curr_list_2) == convert_to_dict(curr_list_1)"
      ],
      "metadata": {
        "colab": {
          "base_uri": "https://localhost:8080/"
        },
        "id": "x6g82mrWGdmN",
        "outputId": "b873d837-aef1-4040-8751-bd2551ff8d43"
      },
      "execution_count": null,
      "outputs": [
        {
          "output_type": "execute_result",
          "data": {
            "text/plain": [
              "True"
            ]
          },
          "metadata": {},
          "execution_count": 215
        }
      ]
    },
    {
      "cell_type": "code",
      "source": [],
      "metadata": {
        "id": "U7HTtshHGOa-"
      },
      "execution_count": null,
      "outputs": []
    }
  ],
  "metadata": {
    "colab": {
      "toc_visible": true,
      "provenance": []
    },
    "kernelspec": {
      "display_name": "Python 3",
      "name": "python3"
    }
  },
  "nbformat": 4,
  "nbformat_minor": 0
}